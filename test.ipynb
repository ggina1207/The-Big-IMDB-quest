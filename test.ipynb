{
 "cells": [
  {
   "cell_type": "code",
   "execution_count": null,
   "id": "4039c18e-413c-4984-8d2d-d1321a607fd0",
   "metadata": {},
   "outputs": [],
   "source": [
    "class Test(unittest.TestCase):\n",
    "    bs = None\n",
    "    def setUpClass():\n",
    "        url = '<a target=\"_blank\" rel=\"nofollow\" href=\"https://en.wikipedia.org/wiki/Python\">https://en.wikipedia.org/wiki/Python</a>'\n",
    "        Test.bs = BeautifulSoup(urlopen(url), 'html.parser')\n",
    "    def test_titleText(self):\n",
    "        pageTitle = Test.bs.find('h1').get_text()\n",
    "        self.assertEqual('Python', pageTitle);\n",
    "    def test_contentExists(self):\n",
    "        content = Test.bs.find('div',{'id':'mw-content-text'})\n",
    "        self.assertIsNotNone(content)"
   ]
  }
 ],
 "metadata": {
  "kernelspec": {
   "display_name": "Python 3 (ipykernel)",
   "language": "python",
   "name": "python3"
  },
  "language_info": {
   "codemirror_mode": {
    "name": "ipython",
    "version": 3
   },
   "file_extension": ".py",
   "mimetype": "text/x-python",
   "name": "python",
   "nbconvert_exporter": "python",
   "pygments_lexer": "ipython3",
   "version": "3.8.13"
  }
 },
 "nbformat": 4,
 "nbformat_minor": 5
}
