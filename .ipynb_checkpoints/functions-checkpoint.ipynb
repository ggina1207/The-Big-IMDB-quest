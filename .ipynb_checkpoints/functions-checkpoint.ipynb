{
 "cells": [
  {
   "cell_type": "code",
   "execution_count": 41,
   "id": "88328ba0-b30d-4c22-9414-cb1868a7932c",
   "metadata": {},
   "outputs": [],
   "source": [
    "from bs4 import BeautifulSoup\n",
    "import requests\n",
    "import re\n",
    "import pandas as pd\n",
    "import numpy as np"
   ]
  },
  {
   "cell_type": "code",
   "execution_count": 47,
   "id": "4f84112e-5abd-4be0-b702-4ba6814a871e",
   "metadata": {},
   "outputs": [],
   "source": [
    "url = 'https://www.imdb.com/chart/top/'\n",
    "r = requests.get(url)\n",
    "soup = BeautifulSoup(r.content, 'html5lib')"
   ]
  },
  {
   "cell_type": "code",
   "execution_count": 20,
   "id": "e5752047-a854-4f3a-8d66-58bcc980153d",
   "metadata": {},
   "outputs": [],
   "source": [
    "def Scraper():\n",
    "    url = 'https://www.imdb.com/chart/top/'\n",
    "    r = requests.get(url)\n",
    "    soup = BeautifulSoup(r.content, 'html5lib')\n",
    "\n",
    "    movies = soup.select('td.titleColumn')\n",
    "\n",
    "    # as of the number of Oscars visible just on the movie's own page, then I created a loop to scrape the first 20 movies\n",
    "    movie_id=[b.attrs.get('href') for b in soup.select('td.posterColumn a')]\n",
    "    oscar_df=pd.DataFrame(columns=[0])\n",
    "\n",
    "    for m in movie_id[:20]:\n",
    "        url_id = 'https://www.imdb.com'+ m\n",
    "        r2 = requests.get(url_id)\n",
    "        soup2 = BeautifulSoup(r2.content, 'html5lib')\n",
    "        movie_nr=[b for b in soup2.find('a', attrs={'class': 'ipc-metadata-list-item__label ipc-metadata-list-item__label--link', \n",
    "                                                    'href' : re.compile('awards')})]\n",
    "        oscar_df.loc[len(oscar_df)]=movie_nr\n",
    "\n",
    "    oscar_df=oscar_df[0].str.split(' ',5,expand=True)\n",
    "    for c in oscar_df:\n",
    "        if str(oscar_df[c].dtype) in ('object', 'string_', 'unicode_'):\n",
    "            oscar_df[c].fillna(value='', inplace=True)\n",
    "\n",
    "    oscar_df[1]=np.where((oscar_df[1]==\"for\") | (oscar_df[1]==\"\"),0,oscar_df[1])\n",
    "    oscar_nr=oscar_df[1].to_dict()\n",
    "\n",
    "\n",
    "    # split ratings and number of ratings from text field\n",
    "    rating=[b.attrs.get('title') for b in soup.select('td.ratingColumn strong')]\n",
    "\n",
    "    rating_df=pd.DataFrame(rating)\n",
    "    rating_df=rating_df[0].str.split(' ',5,expand=True)\n",
    "    rating_nr=rating_df[3].str.replace(',','').astype(int).to_dict()\n",
    "\n",
    "    # it will be the final df\n",
    "    movie_list=pd.DataFrame(columns=['title','ratings','nr_of_ratings', 'nr_of_oscars'])\n",
    "\n",
    "    for index in range(0, len(movies[:20])):\n",
    "        movie_string = movies[index].get_text()\n",
    "        movie = (' '.join(movie_string.split()).replace('.', ''))\n",
    "        if index>9:\n",
    "            movie_title = movie[len(str())+3:-7] \n",
    "        else:\n",
    "            movie_title = movie[len(str())+2:-7]\n",
    "        data = [movie_title, rating[index][:3], rating_nr[index], oscar_nr[index]]\n",
    "\n",
    "        movie_list.loc[len(movie_list)]=data\n",
    "\n",
    "    movie_list=movie_list.sort_index(ascending=False).reset_index(drop=True)\n",
    "    return movie_list"
   ]
  },
  {
   "cell_type": "code",
   "execution_count": 35,
   "id": "c0cd29b6-66b2-484f-b747-4f9d5f7d56e4",
   "metadata": {},
   "outputs": [],
   "source": [
    "def RatingAdjustment():\n",
    "    movie_list=Scraper()\n",
    "    movie_list['adj_ratings']=movie_list['ratings'].copy()\n",
    "    movie_list['adj_ratings']=movie_list['adj_ratings'].astype(float)\n",
    "    movie_list['nr_of_oscars']=movie_list['nr_of_oscars'].astype(float)\n",
    "    \n",
    "    # Review Penalizer\n",
    "    def ReviewPenalizer():\n",
    "        movie_list['adj_ratings']=movie_list['adj_ratings']-((((max(movie_list['nr_of_ratings'])-movie_list['nr_of_ratings'])/100000).apply(np.floor))*0.1)\n",
    "        return movie_list\n",
    "\n",
    "    # Oscar Calculator\n",
    "    def OscarCalculator():\n",
    "        movie_list=ReviewPenalizer()\n",
    "        movie_list.loc[(movie_list['nr_of_oscars'].between(1,2)), 'adj_ratings'] = movie_list['adj_ratings']+0.3\n",
    "        movie_list.loc[(movie_list['nr_of_oscars'].between(3,5)), 'adj_ratings'] = movie_list['adj_ratings']+0.5\n",
    "        movie_list.loc[(movie_list['nr_of_oscars'].between(6,10)), 'adj_ratings'] = movie_list['adj_ratings']+1\n",
    "        movie_list.loc[(movie_list['nr_of_oscars']>10), 'adj_ratings'] = movie_list['adj_ratings']+1.5\n",
    "        return movie_list\n",
    "    return OscarCalculator().to_json('TOP20_movies_data.json', orient='records', force_ascii=False)"
   ]
  },
  {
   "cell_type": "code",
   "execution_count": 37,
   "id": "aebc09d4-2676-444d-9ac1-c3acc2fa996f",
   "metadata": {},
   "outputs": [],
   "source": [
    "if __name__ == '__main__':\n",
    "    print(\"IMDB Scraper and Rating Adjustment functions started running...\")\n",
    "    RatingAdjustment()\n",
    "    print(\"TOP20_movies_data.json have been saved in the folder\")"
   ]
  }
 ],
 "metadata": {
  "kernelspec": {
   "display_name": "Python 3 (ipykernel)",
   "language": "python",
   "name": "python3"
  },
  "language_info": {
   "codemirror_mode": {
    "name": "ipython",
    "version": 3
   },
   "file_extension": ".py",
   "mimetype": "text/x-python",
   "name": "python",
   "nbconvert_exporter": "python",
   "pygments_lexer": "ipython3",
   "version": "3.8.13"
  }
 },
 "nbformat": 4,
 "nbformat_minor": 5
}
