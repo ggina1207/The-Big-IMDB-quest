{
 "cells": [
  {
   "cell_type": "code",
   "execution_count": 24,
   "id": "6ec33347-2a04-4da3-99ab-9ecaef366846",
   "metadata": {},
   "outputs": [],
   "source": [
    "from bs4 import BeautifulSoup\n",
    "from urllib.request import urlopen\n",
    "import unittest\n",
    "\n",
    "def setUpClass2():\n",
    "    url = 'https://www.imdb.com/title/tt0110912/'\n",
    "    bs = BeautifulSoup(urlopen(url), 'html.parser')"
   ]
  },
  {
   "cell_type": "code",
   "execution_count": 30,
   "id": "d23ec05f-f85e-4efa-b112-8da8c6a7d2a4",
   "metadata": {},
   "outputs": [
    {
     "name": "stdout",
     "output_type": "stream",
     "text": [
      "None\n"
     ]
    }
   ],
   "source": [
    "class Test(unittest.TestCase):\n",
    "    bs = None\n",
    "    def setUpClass():\n",
    "        url = 'https://www.imdb.com/chart/top/'\n",
    "        Test.bs = BeautifulSoup(urlopen(url), 'html.parser')\n",
    "    print(bs)\n",
    "    def test_titleText(self):\n",
    "        pageTitle = Test.bs.find('h1').get_text()\n",
    "        self.assertEqual('IMDb Top 250 Movies', pageTitle);\n",
    "    def test_contentExists(self):\n",
    "        content = [b.attrs.get('title') for b in Test.bs.select('td.ratingColumn strong')]\n",
    "        self.assertIsNotNone(content)"
   ]
  },
  {
   "cell_type": "code",
   "execution_count": 27,
   "id": "ceed05d4-742f-46ec-b126-b6744e11c4dc",
   "metadata": {},
   "outputs": [
    {
     "name": "stdout",
     "output_type": "stream",
     "text": [
      "None\n"
     ]
    }
   ],
   "source": [
    "print(bs)"
   ]
  },
  {
   "cell_type": "code",
   "execution_count": null,
   "id": "2cfee517-9775-493f-b08d-a511df3e5530",
   "metadata": {},
   "outputs": [],
   "source": []
  }
 ],
 "metadata": {
  "kernelspec": {
   "display_name": "Python 3 (ipykernel)",
   "language": "python",
   "name": "python3"
  },
  "language_info": {
   "codemirror_mode": {
    "name": "ipython",
    "version": 3
   },
   "file_extension": ".py",
   "mimetype": "text/x-python",
   "name": "python",
   "nbconvert_exporter": "python",
   "pygments_lexer": "ipython3",
   "version": "3.8.13"
  }
 },
 "nbformat": 4,
 "nbformat_minor": 5
}
