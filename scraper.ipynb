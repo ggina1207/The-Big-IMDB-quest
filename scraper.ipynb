{
 "cells": [
  {
   "cell_type": "code",
   "execution_count": null,
   "id": "7f9fb5b8-37b8-423c-b532-3b0c2d8c3d2b",
   "metadata": {},
   "outputs": [],
   "source": [
    "from bs4 import BeautifulSoup\n",
    "import requests\n",
    "import re\n",
    "import pandas as pd\n",
    "import numpy as np\n",
    "\n",
    "url = 'https://www.imdb.com/chart/top/'\n",
    "r = requests.get(url)\n",
    "soup = BeautifulSoup(r.content, 'html5lib')\n",
    "\n",
    "movies = soup.select('td.titleColumn')\n",
    "\n",
    "# as of the number of Oscars visible just on the movie's own page, then I created a loop to scrape the first 20 movies\n",
    "movie_id=[b.attrs.get('href') for b in soup.select('td.posterColumn a')]\n",
    "oscar_df=pd.DataFrame(columns=[0])\n",
    "\n",
    "for m in movie_id[:20]:\n",
    "    url_id = 'https://www.imdb.com'+ m\n",
    "    r2 = requests.get(url_id)\n",
    "    soup2 = BeautifulSoup(r2.content, 'html5lib')\n",
    "    movie_nr=[b for b in soup2.find('a', attrs={'class': 'ipc-metadata-list-item__label ipc-metadata-list-item__label--link', \n",
    "                                                'href' : re.compile('awards')})]\n",
    "    oscar_df.loc[len(oscar_df)]=movie_nr\n",
    "\n",
    "oscar_df=oscar_df[0].str.split(' ',5,expand=True)\n",
    "for c in oscar_df:\n",
    "    if str(oscar_df[c].dtype) in ('object', 'string_', 'unicode_'):\n",
    "        oscar_df[c].fillna(value='', inplace=True)\n",
    "\n",
    "oscar_df[1]=np.where((oscar_df[1]==\"for\") | (oscar_df[1]==\"\"),0,oscar_df[1])\n",
    "oscar_nr=oscar_df[1].to_dict()\n",
    "\n",
    "\n",
    "# split ratings and number of ratings from text field\n",
    "rating=[b.attrs.get('title') for b in soup.select('td.ratingColumn strong')]\n",
    "\n",
    "rating_df=pd.DataFrame(rating)\n",
    "rating_df=rating_df[0].str.split(' ',5,expand=True)\n",
    "rating_nr=rating_df[3].str.replace(',','').astype(int).to_dict()\n",
    "\n",
    "# it will be the final df\n",
    "movie_list=pd.DataFrame(columns=['title','ratings','nr_of_ratings', 'nr_of_oscars'])\n",
    "\n",
    "for index in range(0, len(movies[:20])):\n",
    "    movie_string = movies[index].get_text()\n",
    "    movie = (' '.join(movie_string.split()).replace('.', ''))\n",
    "    if index>9:\n",
    "        movie_title = movie[len(str())+3:-7] \n",
    "    else:\n",
    "        movie_title = movie[len(str())+2:-7]\n",
    "    data = [movie_title, rating[index][:3], rating_nr[index], oscar_nr[index]]\n",
    "    \n",
    "    movie_list.loc[len(movie_list)]=data\n",
    "\n",
    "movie_list=movie_list.sort_index(ascending=False).reset_index(drop=True)"
   ]
  },
  {
   "cell_type": "code",
   "execution_count": null,
   "id": "a54dde2f-5016-41ff-be3f-63acb3cbf5c5",
   "metadata": {},
   "outputs": [],
   "source": [
    "# Review Penalizer\n",
    "movie_list['ratings']=movie_list['ratings'].astype(float)\n",
    "movie_list['adj_ratings']=movie_list['ratings']-((((max(movie_list['nr_of_ratings'])-movie_list['nr_of_ratings'])/100000).apply(np.floor))*0.1)"
   ]
  },
  {
   "cell_type": "code",
   "execution_count": null,
   "id": "a64db5d1-c1a3-4479-ad23-e3d5adb5d6a5",
   "metadata": {},
   "outputs": [],
   "source": [
    "# Oscar Calculator\n",
    "movie_list['nr_of_oscars']=movie_list['nr_of_oscars'].astype(float)\n",
    "movie_list.loc[(movie_list['nr_of_oscars'].between(1,2)), 'adj_ratings'] = movie_list['adj_ratings']+0.3\n",
    "movie_list.loc[(movie_list['nr_of_oscars'].between(3,5)), 'adj_ratings'] = movie_list['adj_ratings']+0.5\n",
    "movie_list.loc[(movie_list['nr_of_oscars'].between(6,10)), 'adj_ratings'] = movie_list['adj_ratings']+1\n",
    "movie_list.loc[(movie_list['nr_of_oscars']>10), 'adj_ratings'] = movie_list['adj_ratings']+1.5"
   ]
  },
  {
   "cell_type": "code",
   "execution_count": null,
   "id": "95620be2-dce8-4392-b951-9ff14b24ec04",
   "metadata": {},
   "outputs": [],
   "source": [
    "movie_list"
   ]
  },
  {
   "cell_type": "code",
   "execution_count": null,
   "id": "af80c931-2804-459d-8be3-47cfe745f82d",
   "metadata": {},
   "outputs": [],
   "source": []
  }
 ],
 "metadata": {
  "kernelspec": {
   "display_name": "Python 3 (ipykernel)",
   "language": "python",
   "name": "python3"
  },
  "language_info": {
   "codemirror_mode": {
    "name": "ipython",
    "version": 3
   },
   "file_extension": ".py",
   "mimetype": "text/x-python",
   "name": "python",
   "nbconvert_exporter": "python",
   "pygments_lexer": "ipython3",
   "version": "3.8.13"
  }
 },
 "nbformat": 4,
 "nbformat_minor": 5
}
